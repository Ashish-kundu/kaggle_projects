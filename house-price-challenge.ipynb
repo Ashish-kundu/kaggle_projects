{
 "cells": [
  {
   "cell_type": "code",
   "execution_count": 1,
   "id": "1bb803ce",
   "metadata": {
    "_cell_guid": "b1076dfc-b9ad-4769-8c92-a6c4dae69d19",
    "_uuid": "8f2839f25d086af736a60e9eeb907d3b93b6e0e5",
    "execution": {
     "iopub.execute_input": "2022-08-07T10:43:50.572894Z",
     "iopub.status.busy": "2022-08-07T10:43:50.572331Z",
     "iopub.status.idle": "2022-08-07T10:43:50.592138Z",
     "shell.execute_reply": "2022-08-07T10:43:50.591160Z"
    },
    "papermill": {
     "duration": 0.026554,
     "end_time": "2022-08-07T10:43:50.594458",
     "exception": false,
     "start_time": "2022-08-07T10:43:50.567904",
     "status": "completed"
    },
    "tags": []
   },
   "outputs": [
    {
     "name": "stdout",
     "output_type": "stream",
     "text": [
      "/kaggle/input/house-price-prediction-challenge/sample_submission.csv\n",
      "/kaggle/input/house-price-prediction-challenge/train.csv\n",
      "/kaggle/input/house-price-prediction-challenge/test.csv\n"
     ]
    }
   ],
   "source": [
    "# This Python 3 environment comes with many helpful analytics libraries installed\n",
    "# It is defined by the kaggle/python Docker image: https://github.com/kaggle/docker-python\n",
    "# For example, here's several helpful packages to load\n",
    "\n",
    "import numpy as np # linear algebra\n",
    "import pandas as pd # data processing, CSV file I/O (e.g. pd.read_csv)\n",
    "\n",
    "# Input data files are available in the read-only \"../input/\" directory\n",
    "# For example, running this (by clicking run or pressing Shift+Enter) will list all files under the input directory\n",
    "\n",
    "import os\n",
    "for dirname, _, filenames in os.walk('/kaggle/input'):\n",
    "    for filename in filenames:\n",
    "        print(os.path.join(dirname, filename))\n",
    "\n",
    "# You can write up to 20GB to the current directory (/kaggle/working/) that gets preserved as output when you create a version using \"Save & Run All\" \n",
    "# You can also write temporary files to /kaggle/temp/, but they won't be saved outside of the current session"
   ]
  },
  {
   "cell_type": "code",
   "execution_count": 2,
   "id": "7c92d880",
   "metadata": {
    "execution": {
     "iopub.execute_input": "2022-08-07T10:43:50.602086Z",
     "iopub.status.busy": "2022-08-07T10:43:50.601569Z",
     "iopub.status.idle": "2022-08-07T10:43:50.677095Z",
     "shell.execute_reply": "2022-08-07T10:43:50.676445Z"
    },
    "papermill": {
     "duration": 0.081626,
     "end_time": "2022-08-07T10:43:50.679376",
     "exception": false,
     "start_time": "2022-08-07T10:43:50.597750",
     "status": "completed"
    },
    "tags": []
   },
   "outputs": [],
   "source": [
    "df=pd.read_csv('/kaggle/input/house-price-prediction-challenge/train.csv', header=0)"
   ]
  },
  {
   "cell_type": "code",
   "execution_count": 3,
   "id": "93e5eb8a",
   "metadata": {
    "execution": {
     "iopub.execute_input": "2022-08-07T10:43:50.685799Z",
     "iopub.status.busy": "2022-08-07T10:43:50.685284Z",
     "iopub.status.idle": "2022-08-07T10:43:50.712978Z",
     "shell.execute_reply": "2022-08-07T10:43:50.711818Z"
    },
    "papermill": {
     "duration": 0.033261,
     "end_time": "2022-08-07T10:43:50.715170",
     "exception": false,
     "start_time": "2022-08-07T10:43:50.681909",
     "status": "completed"
    },
    "tags": []
   },
   "outputs": [
    {
     "name": "stdout",
     "output_type": "stream",
     "text": [
      "  POSTED_BY  UNDER_CONSTRUCTION  RERA  BHK_NO. BHK_OR_RK    SQUARE_FT  \\\n",
      "0     Owner                   0     0        2       BHK  1300.236407   \n",
      "1    Dealer                   0     0        2       BHK  1275.000000   \n",
      "2     Owner                   0     0        2       BHK   933.159722   \n",
      "3     Owner                   0     1        2       BHK   929.921143   \n",
      "4    Dealer                   1     0        2       BHK   999.009247   \n",
      "\n",
      "   READY_TO_MOVE  RESALE                      ADDRESS  LONGITUDE   LATITUDE  \\\n",
      "0              1       1        Ksfc Layout,Bangalore  12.969910  77.597960   \n",
      "1              1       1    Vishweshwara Nagar,Mysore  12.274538  76.644605   \n",
      "2              1       1             Jigani,Bangalore  12.778033  77.632191   \n",
      "3              1       1  Sector-1 Vaishali,Ghaziabad  28.642300  77.344500   \n",
      "4              0       1             New Town,Kolkata  22.592200  88.484911   \n",
      "\n",
      "   TARGET(PRICE_IN_LACS)  \n",
      "0                   55.0  \n",
      "1                   51.0  \n",
      "2                   43.0  \n",
      "3                   62.5  \n",
      "4                   60.5  \n"
     ]
    },
    {
     "data": {
      "text/html": [
       "<div>\n",
       "<style scoped>\n",
       "    .dataframe tbody tr th:only-of-type {\n",
       "        vertical-align: middle;\n",
       "    }\n",
       "\n",
       "    .dataframe tbody tr th {\n",
       "        vertical-align: top;\n",
       "    }\n",
       "\n",
       "    .dataframe thead th {\n",
       "        text-align: right;\n",
       "    }\n",
       "</style>\n",
       "<table border=\"1\" class=\"dataframe\">\n",
       "  <thead>\n",
       "    <tr style=\"text-align: right;\">\n",
       "      <th></th>\n",
       "      <th>POSTED_BY</th>\n",
       "      <th>UNDER_CONSTRUCTION</th>\n",
       "      <th>RERA</th>\n",
       "      <th>BHK_NO.</th>\n",
       "      <th>BHK_OR_RK</th>\n",
       "      <th>SQUARE_FT</th>\n",
       "      <th>READY_TO_MOVE</th>\n",
       "      <th>RESALE</th>\n",
       "      <th>ADDRESS</th>\n",
       "      <th>LONGITUDE</th>\n",
       "      <th>LATITUDE</th>\n",
       "      <th>TARGET(PRICE_IN_LACS)</th>\n",
       "    </tr>\n",
       "  </thead>\n",
       "  <tbody>\n",
       "    <tr>\n",
       "      <th>29444</th>\n",
       "      <td>Dealer</td>\n",
       "      <td>1</td>\n",
       "      <td>1</td>\n",
       "      <td>1</td>\n",
       "      <td>BHK</td>\n",
       "      <td>752.049334</td>\n",
       "      <td>0</td>\n",
       "      <td>1</td>\n",
       "      <td>Mulund (West),Mumbai</td>\n",
       "      <td>19.175900</td>\n",
       "      <td>72.952200</td>\n",
       "      <td>100.0</td>\n",
       "    </tr>\n",
       "    <tr>\n",
       "      <th>29445</th>\n",
       "      <td>Owner</td>\n",
       "      <td>0</td>\n",
       "      <td>0</td>\n",
       "      <td>2</td>\n",
       "      <td>BHK</td>\n",
       "      <td>1062.134891</td>\n",
       "      <td>1</td>\n",
       "      <td>1</td>\n",
       "      <td>Tilakwadi,Belgaum</td>\n",
       "      <td>15.866670</td>\n",
       "      <td>74.500000</td>\n",
       "      <td>40.0</td>\n",
       "    </tr>\n",
       "    <tr>\n",
       "      <th>29446</th>\n",
       "      <td>Owner</td>\n",
       "      <td>0</td>\n",
       "      <td>0</td>\n",
       "      <td>3</td>\n",
       "      <td>BHK</td>\n",
       "      <td>2500.000000</td>\n",
       "      <td>1</td>\n",
       "      <td>1</td>\n",
       "      <td>Shamshabad Road,Agra</td>\n",
       "      <td>27.140626</td>\n",
       "      <td>78.043277</td>\n",
       "      <td>45.0</td>\n",
       "    </tr>\n",
       "    <tr>\n",
       "      <th>29447</th>\n",
       "      <td>Owner</td>\n",
       "      <td>0</td>\n",
       "      <td>0</td>\n",
       "      <td>2</td>\n",
       "      <td>BHK</td>\n",
       "      <td>769.230769</td>\n",
       "      <td>1</td>\n",
       "      <td>1</td>\n",
       "      <td>E3-108, Lake View Recidency,,Vapi</td>\n",
       "      <td>39.945409</td>\n",
       "      <td>-86.150721</td>\n",
       "      <td>16.0</td>\n",
       "    </tr>\n",
       "    <tr>\n",
       "      <th>29448</th>\n",
       "      <td>Dealer</td>\n",
       "      <td>0</td>\n",
       "      <td>0</td>\n",
       "      <td>2</td>\n",
       "      <td>BHK</td>\n",
       "      <td>1022.641509</td>\n",
       "      <td>1</td>\n",
       "      <td>1</td>\n",
       "      <td>Ajmer Road,Jaipur</td>\n",
       "      <td>26.928785</td>\n",
       "      <td>75.828002</td>\n",
       "      <td>27.1</td>\n",
       "    </tr>\n",
       "    <tr>\n",
       "      <th>29449</th>\n",
       "      <td>Owner</td>\n",
       "      <td>0</td>\n",
       "      <td>0</td>\n",
       "      <td>2</td>\n",
       "      <td>BHK</td>\n",
       "      <td>927.079009</td>\n",
       "      <td>1</td>\n",
       "      <td>1</td>\n",
       "      <td>Sholinganallur,Chennai</td>\n",
       "      <td>12.900150</td>\n",
       "      <td>80.227910</td>\n",
       "      <td>67.0</td>\n",
       "    </tr>\n",
       "    <tr>\n",
       "      <th>29450</th>\n",
       "      <td>Dealer</td>\n",
       "      <td>0</td>\n",
       "      <td>1</td>\n",
       "      <td>2</td>\n",
       "      <td>BHK</td>\n",
       "      <td>896.774194</td>\n",
       "      <td>1</td>\n",
       "      <td>1</td>\n",
       "      <td>Jagatpura,Jaipur</td>\n",
       "      <td>26.832353</td>\n",
       "      <td>75.841749</td>\n",
       "      <td>27.8</td>\n",
       "    </tr>\n",
       "  </tbody>\n",
       "</table>\n",
       "</div>"
      ],
      "text/plain": [
       "      POSTED_BY  UNDER_CONSTRUCTION  RERA  BHK_NO. BHK_OR_RK    SQUARE_FT  \\\n",
       "29444    Dealer                   1     1        1       BHK   752.049334   \n",
       "29445     Owner                   0     0        2       BHK  1062.134891   \n",
       "29446     Owner                   0     0        3       BHK  2500.000000   \n",
       "29447     Owner                   0     0        2       BHK   769.230769   \n",
       "29448    Dealer                   0     0        2       BHK  1022.641509   \n",
       "29449     Owner                   0     0        2       BHK   927.079009   \n",
       "29450    Dealer                   0     1        2       BHK   896.774194   \n",
       "\n",
       "       READY_TO_MOVE  RESALE                            ADDRESS  LONGITUDE  \\\n",
       "29444              0       1               Mulund (West),Mumbai  19.175900   \n",
       "29445              1       1                  Tilakwadi,Belgaum  15.866670   \n",
       "29446              1       1               Shamshabad Road,Agra  27.140626   \n",
       "29447              1       1  E3-108, Lake View Recidency,,Vapi  39.945409   \n",
       "29448              1       1                  Ajmer Road,Jaipur  26.928785   \n",
       "29449              1       1             Sholinganallur,Chennai  12.900150   \n",
       "29450              1       1                   Jagatpura,Jaipur  26.832353   \n",
       "\n",
       "        LATITUDE  TARGET(PRICE_IN_LACS)  \n",
       "29444  72.952200                  100.0  \n",
       "29445  74.500000                   40.0  \n",
       "29446  78.043277                   45.0  \n",
       "29447 -86.150721                   16.0  \n",
       "29448  75.828002                   27.1  \n",
       "29449  80.227910                   67.0  \n",
       "29450  75.841749                   27.8  "
      ]
     },
     "execution_count": 3,
     "metadata": {},
     "output_type": "execute_result"
    }
   ],
   "source": [
    "print(df.head(5))\n",
    "df.tail(7)"
   ]
  },
  {
   "cell_type": "code",
   "execution_count": 4,
   "id": "85c9fc65",
   "metadata": {
    "execution": {
     "iopub.execute_input": "2022-08-07T10:43:50.722592Z",
     "iopub.status.busy": "2022-08-07T10:43:50.721811Z",
     "iopub.status.idle": "2022-08-07T10:43:50.734294Z",
     "shell.execute_reply": "2022-08-07T10:43:50.732660Z"
    },
    "papermill": {
     "duration": 0.018224,
     "end_time": "2022-08-07T10:43:50.736565",
     "exception": false,
     "start_time": "2022-08-07T10:43:50.718341",
     "status": "completed"
    },
    "tags": []
   },
   "outputs": [],
   "source": [
    "df1=df.drop('TARGET(PRICE_IN_LACS)',axis=1)"
   ]
  },
  {
   "cell_type": "code",
   "execution_count": 5,
   "id": "59f198e3",
   "metadata": {
    "execution": {
     "iopub.execute_input": "2022-08-07T10:43:50.743193Z",
     "iopub.status.busy": "2022-08-07T10:43:50.742869Z",
     "iopub.status.idle": "2022-08-07T10:43:50.748184Z",
     "shell.execute_reply": "2022-08-07T10:43:50.747283Z"
    },
    "papermill": {
     "duration": 0.010344,
     "end_time": "2022-08-07T10:43:50.749777",
     "exception": false,
     "start_time": "2022-08-07T10:43:50.739433",
     "status": "completed"
    },
    "tags": []
   },
   "outputs": [],
   "source": [
    "x=df[['BHK_NO.']]\n",
    "y=df[['TARGET(PRICE_IN_LACS)']]"
   ]
  },
  {
   "cell_type": "code",
   "execution_count": 6,
   "id": "a81d1869",
   "metadata": {
    "execution": {
     "iopub.execute_input": "2022-08-07T10:43:50.755874Z",
     "iopub.status.busy": "2022-08-07T10:43:50.755645Z",
     "iopub.status.idle": "2022-08-07T10:43:51.905859Z",
     "shell.execute_reply": "2022-08-07T10:43:51.904628Z"
    },
    "papermill": {
     "duration": 1.155195,
     "end_time": "2022-08-07T10:43:51.907581",
     "exception": false,
     "start_time": "2022-08-07T10:43:50.752386",
     "status": "completed"
    },
    "tags": []
   },
   "outputs": [
    {
     "data": {
      "text/plain": [
       "LinearRegression()"
      ]
     },
     "execution_count": 6,
     "metadata": {},
     "output_type": "execute_result"
    }
   ],
   "source": [
    "from sklearn.linear_model import LinearRegression\n",
    "model=LinearRegression()\n",
    "model.fit(x,y)"
   ]
  },
  {
   "cell_type": "code",
   "execution_count": 7,
   "id": "cb693115",
   "metadata": {
    "execution": {
     "iopub.execute_input": "2022-08-07T10:43:51.914077Z",
     "iopub.status.busy": "2022-08-07T10:43:51.913807Z",
     "iopub.status.idle": "2022-08-07T10:43:51.924043Z",
     "shell.execute_reply": "2022-08-07T10:43:51.922950Z"
    },
    "papermill": {
     "duration": 0.015624,
     "end_time": "2022-08-07T10:43:51.926006",
     "exception": false,
     "start_time": "2022-08-07T10:43:51.910382",
     "status": "completed"
    },
    "tags": []
   },
   "outputs": [
    {
     "name": "stderr",
     "output_type": "stream",
     "text": [
      "/opt/conda/lib/python3.7/site-packages/sklearn/base.py:451: UserWarning: X does not have valid feature names, but LinearRegression was fitted with feature names\n",
      "  \"X does not have valid feature names, but\"\n"
     ]
    },
    {
     "data": {
      "text/plain": [
       "array([[109.98631249]])"
      ]
     },
     "execution_count": 7,
     "metadata": {},
     "output_type": "execute_result"
    }
   ],
   "source": [
    "model.predict([[2]])"
   ]
  },
  {
   "cell_type": "code",
   "execution_count": null,
   "id": "8cd9fdae",
   "metadata": {
    "papermill": {
     "duration": 0.002577,
     "end_time": "2022-08-07T10:43:51.931865",
     "exception": false,
     "start_time": "2022-08-07T10:43:51.929288",
     "status": "completed"
    },
    "tags": []
   },
   "outputs": [],
   "source": []
  }
 ],
 "metadata": {
  "kernelspec": {
   "display_name": "Python 3",
   "language": "python",
   "name": "python3"
  },
  "language_info": {
   "codemirror_mode": {
    "name": "ipython",
    "version": 3
   },
   "file_extension": ".py",
   "mimetype": "text/x-python",
   "name": "python",
   "nbconvert_exporter": "python",
   "pygments_lexer": "ipython3",
   "version": "3.7.12"
  },
  "papermill": {
   "default_parameters": {},
   "duration": 9.657113,
   "end_time": "2022-08-07T10:43:52.552913",
   "environment_variables": {},
   "exception": null,
   "input_path": "__notebook__.ipynb",
   "output_path": "__notebook__.ipynb",
   "parameters": {},
   "start_time": "2022-08-07T10:43:42.895800",
   "version": "2.3.4"
  }
 },
 "nbformat": 4,
 "nbformat_minor": 5
}
